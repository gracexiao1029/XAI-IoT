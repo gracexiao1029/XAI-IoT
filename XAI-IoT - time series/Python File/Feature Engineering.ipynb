{
 "cells": [
  {
   "cell_type": "markdown",
   "metadata": {
    "id": "ttqhV3ZDP1d8"
   },
   "source": [
    "# Feature Engineering"
   ]
  },
  {
   "cell_type": "markdown",
   "metadata": {
    "id": "Ru_ekkeoP-aA"
   },
   "source": [
    "## Load Package"
   ]
  },
  {
   "cell_type": "code",
   "execution_count": 1,
   "metadata": {
    "executionInfo": {
     "elapsed": 8705,
     "status": "ok",
     "timestamp": 1743703642978,
     "user": {
      "displayName": "Yiming Li",
      "userId": "11003622552533924930"
     },
     "user_tz": 240
    },
    "id": "2Buc5NxeQAk5"
   },
   "outputs": [],
   "source": [
    "import pandas as pd\n",
    "import numpy as np\n",
    "import matplotlib.pyplot as plt\n",
    "import seaborn as sns\n",
    "\n",
    "from sklearn.ensemble import RandomForestClassifier\n",
    "from sklearn.model_selection import train_test_split, GridSearchCV\n",
    "\n",
    "from sklearn.metrics import accuracy_score, f1_score, classification_report, confusion_matrix, roc_auc_score, roc_curve"
   ]
  },
  {
   "cell_type": "markdown",
   "metadata": {
    "id": "zBnvY2flQFMq"
   },
   "source": [
    "## Load Processed Data"
   ]
  },
  {
   "cell_type": "code",
   "execution_count": 2,
   "metadata": {
    "executionInfo": {
     "elapsed": 1029,
     "status": "ok",
     "timestamp": 1743703644006,
     "user": {
      "displayName": "Yiming Li",
      "userId": "11003622552533924930"
     },
     "user_tz": 240
    },
    "id": "8DFmT8NbQGTa"
   },
   "outputs": [],
   "source": [
    "X = pd.read_csv(\"../Dataset/X_scaled.csv\", index_col=0)\n",
    "y = pd.read_csv(\"../Dataset/y_clean.csv\", index_col=0).squeeze()"
   ]
  },
  {
   "cell_type": "code",
   "execution_count": 3,
   "metadata": {},
   "outputs": [
    {
     "name": "stdout",
     "output_type": "stream",
     "text": [
      "(115294, 4) (115294,)\n"
     ]
    }
   ],
   "source": [
    "print(X.shape, y.shape)"
   ]
  },
  {
   "cell_type": "code",
   "execution_count": 4,
   "metadata": {},
   "outputs": [
    {
     "data": {
      "text/html": [
       "<div>\n",
       "<style scoped>\n",
       "    .dataframe tbody tr th:only-of-type {\n",
       "        vertical-align: middle;\n",
       "    }\n",
       "\n",
       "    .dataframe tbody tr th {\n",
       "        vertical-align: top;\n",
       "    }\n",
       "\n",
       "    .dataframe thead th {\n",
       "        text-align: right;\n",
       "    }\n",
       "</style>\n",
       "<table border=\"1\" class=\"dataframe\">\n",
       "  <thead>\n",
       "    <tr style=\"text-align: right;\">\n",
       "      <th></th>\n",
       "      <th>shunt_voltage</th>\n",
       "      <th>bus_voltage_V</th>\n",
       "      <th>current_mA</th>\n",
       "      <th>power_mW</th>\n",
       "    </tr>\n",
       "    <tr>\n",
       "      <th>time</th>\n",
       "      <th></th>\n",
       "      <th></th>\n",
       "      <th></th>\n",
       "      <th></th>\n",
       "    </tr>\n",
       "  </thead>\n",
       "  <tbody>\n",
       "    <tr>\n",
       "      <th>2023-12-24 16:18:00</th>\n",
       "      <td>-0.739315</td>\n",
       "      <td>0.883579</td>\n",
       "      <td>-0.764058</td>\n",
       "      <td>-0.783712</td>\n",
       "    </tr>\n",
       "    <tr>\n",
       "      <th>2023-12-24 16:18:00</th>\n",
       "      <td>-0.054633</td>\n",
       "      <td>-0.221316</td>\n",
       "      <td>-0.064591</td>\n",
       "      <td>-0.032325</td>\n",
       "    </tr>\n",
       "    <tr>\n",
       "      <th>2023-12-24 16:18:00</th>\n",
       "      <td>-0.800175</td>\n",
       "      <td>0.607355</td>\n",
       "      <td>-0.779263</td>\n",
       "      <td>-0.783712</td>\n",
       "    </tr>\n",
       "    <tr>\n",
       "      <th>2023-12-24 16:18:00</th>\n",
       "      <td>-0.759602</td>\n",
       "      <td>0.883579</td>\n",
       "      <td>-0.784332</td>\n",
       "      <td>-0.783712</td>\n",
       "    </tr>\n",
       "    <tr>\n",
       "      <th>2023-12-24 16:18:00</th>\n",
       "      <td>-0.805247</td>\n",
       "      <td>0.607355</td>\n",
       "      <td>-0.728577</td>\n",
       "      <td>-0.704618</td>\n",
       "    </tr>\n",
       "  </tbody>\n",
       "</table>\n",
       "</div>"
      ],
      "text/plain": [
       "                     shunt_voltage  bus_voltage_V  current_mA  power_mW\n",
       "time                                                                   \n",
       "2023-12-24 16:18:00      -0.739315       0.883579   -0.764058 -0.783712\n",
       "2023-12-24 16:18:00      -0.054633      -0.221316   -0.064591 -0.032325\n",
       "2023-12-24 16:18:00      -0.800175       0.607355   -0.779263 -0.783712\n",
       "2023-12-24 16:18:00      -0.759602       0.883579   -0.784332 -0.783712\n",
       "2023-12-24 16:18:00      -0.805247       0.607355   -0.728577 -0.704618"
      ]
     },
     "execution_count": 4,
     "metadata": {},
     "output_type": "execute_result"
    }
   ],
   "source": [
    "X.head()"
   ]
  },
  {
   "cell_type": "markdown",
   "metadata": {
    "id": "f9OAH3-DQU5o"
   },
   "source": [
    "## Train/Validation/Test Split\n",
    "In time series, we must avoid shuffling data randomly for train/val/test split because of temporal dependencies and the risk of look-ahead bias.\n",
    "\n",
    "Choice of split: Given the time distribution in EDA, we might train on '2023/12/24 16:18:00'-'2023-12-26 14:01:00' and valid/test on '2023-12-26 14:04:00'–'2023/12/30 16:20:00' (approximately an 66/17/17 split by time). This ensures the test set simulates a forward-looking evaluation."
   ]
  },
  {
   "cell_type": "code",
   "execution_count": 5,
   "metadata": {},
   "outputs": [
    {
     "name": "stdout",
     "output_type": "stream",
     "text": [
      "Validation start index: 75615\n"
     ]
    }
   ],
   "source": [
    "val_start = '2023-12-26 14:04:00'\n",
    "val_index = X.index.get_loc(val_start)\n",
    "val_index = val_index.start\n",
    "print(f\"Validation start index: {val_index}\")"
   ]
  },
  {
   "cell_type": "code",
   "execution_count": null,
   "metadata": {},
   "outputs": [
    {
     "name": "stdout",
     "output_type": "stream",
     "text": [
      "Train size: 75615 | Validation size: 19840 | Test size: 19839\n",
      "Total size: 115294\n",
      "Train proportion: 0.66\n",
      "Validation proportion: 0.17\n",
      "Test proportion: 0.17\n"
     ]
    }
   ],
   "source": [
    "# Split into train and temporary (val + test) sets\n",
    "X_train = X[:val_index]\n",
    "y_train = y[:val_index]\n",
    "\n",
    "X_temp = X[val_index:]\n",
    "y_temp = y[val_index:]\n",
    "\n",
    "# Find split point for val and test (val gets one more if odd)\n",
    "n_temp = len(X_temp)\n",
    "val_size = (n_temp + 1) // 2\n",
    "test_size = n_temp // 2\n",
    "\n",
    "val_end_idx = val_size\n",
    "\n",
    "# Split temp into validation and test\n",
    "X_val = X_temp[:val_end_idx]\n",
    "y_val = y_temp[:val_end_idx]\n",
    "\n",
    "X_test = X_temp[val_end_idx:]\n",
    "y_test = y_temp[val_end_idx:]\n",
    "\n",
    "# Print sizes\n",
    "total_size = len(X_train) + len(X_val) + len(X_test)\n",
    "print(\"Train size:\", len(X_train), \"| Validation size:\", len(X_val), \"| Test size:\", len(X_test))\n",
    "print(\"Total size:\", len(X_train) + len(X_val) + len(X_test))\n",
    "\n",
    "train_proportion = len(X_train) / total_size\n",
    "val_proportion = len(X_val) / total_size\n",
    "test_proportion = len(X_test) / total_size\n",
    "\n",
    "print(f\"Train proportion: {train_proportion:.2f}\")\n",
    "print(f\"Validation proportion: {val_proportion:.2f}\")\n",
    "print(f\"Test proportion: {test_proportion:.2f}\")"
   ]
  },
  {
   "cell_type": "code",
   "execution_count": 7,
   "metadata": {},
   "outputs": [
    {
     "name": "stdout",
     "output_type": "stream",
     "text": [
      "shunt_voltage   -0.947255\n",
      "bus_voltage_V    0.883579\n",
      "current_mA      -0.814744\n",
      "power_mW        -0.941898\n",
      "Name: 2023-12-26 14:01:00, dtype: float64\n",
      "shunt_voltage    1.786402\n",
      "bus_voltage_V   -1.878659\n",
      "current_mA       1.871616\n",
      "power_mW         1.608860\n",
      "Name: 2023-12-26 14:04:00, dtype: float64\n",
      "0\n",
      "1\n"
     ]
    }
   ],
   "source": [
    "# Check for split time period\n",
    "print(X_train.iloc[-1])\n",
    "print(X_val.iloc[0])\n",
    "\n",
    "print(y_train.iloc[-1])\n",
    "print(y_val.iloc[0])"
   ]
  },
  {
   "cell_type": "markdown",
   "metadata": {
    "id": "NAycM2eMQg5P"
   },
   "source": [
    "## Feature Selection - Random Forest"
   ]
  },
  {
   "cell_type": "markdown",
   "metadata": {
    "id": "zJ9QpnHSQyoa"
   },
   "source": [
    "### Hyperparameter Tuning with GridSearchCV (on RF)"
   ]
  },
  {
   "cell_type": "code",
   "execution_count": 8,
   "metadata": {
    "executionInfo": {
     "elapsed": 1,
     "status": "ok",
     "timestamp": 1743703645388,
     "user": {
      "displayName": "Yiming Li",
      "userId": "11003622552533924930"
     },
     "user_tz": 240
    },
    "id": "deP1JiJbQUP5"
   },
   "outputs": [],
   "source": [
    "# Defining the Hyperparameter Grid\n",
    "param_grid = {\n",
    "    'n_estimators': [100, 200],\n",
    "    'max_depth': [None, 10, 20],\n",
    "    'min_samples_split': [2, 5],\n",
    "    'max_features': ['sqrt', 'log2']\n",
    "}\n",
    "\n",
    "# Setting up GridSearchCV\n",
    "rf_grid = GridSearchCV(\n",
    "    RandomForestClassifier(random_state=42, class_weight='balanced'),\n",
    "    param_grid,\n",
    "    scoring='f1',\n",
    "    cv=3,\n",
    "    n_jobs=-1,\n",
    "    verbose=1\n",
    ")"
   ]
  },
  {
   "cell_type": "code",
   "execution_count": 9,
   "metadata": {
    "colab": {
     "base_uri": "https://localhost:8080/"
    },
    "executionInfo": {
     "elapsed": 42961,
     "status": "ok",
     "timestamp": 1743703688469,
     "user": {
      "displayName": "Yiming Li",
      "userId": "11003622552533924930"
     },
     "user_tz": 240
    },
    "id": "qUjxgzhzRFeO",
    "outputId": "7fff2aa9-f66a-48d6-a387-4d6738448e78"
   },
   "outputs": [
    {
     "name": "stdout",
     "output_type": "stream",
     "text": [
      "Fitting 3 folds for each of 24 candidates, totalling 72 fits\n",
      "Best hyperparameters found:\n",
      "{'max_depth': 20, 'max_features': 'sqrt', 'min_samples_split': 2, 'n_estimators': 200}\n"
     ]
    }
   ],
   "source": [
    "# Finding the Best Random Forest Configuration\n",
    "rf_grid.fit(X_train, y_train)\n",
    "best_rf = rf_grid.best_estimator_\n",
    "best_params = rf_grid.best_params_\n",
    "\n",
    "print(\"Best hyperparameters found:\")\n",
    "print(best_params)"
   ]
  },
  {
   "cell_type": "markdown",
   "metadata": {
    "id": "5UAGPOvzRSoe"
   },
   "source": [
    "### Evaluate on Validation Set"
   ]
  },
  {
   "cell_type": "code",
   "execution_count": null,
   "metadata": {
    "colab": {
     "base_uri": "https://localhost:8080/"
    },
    "executionInfo": {
     "elapsed": 9,
     "status": "ok",
     "timestamp": 1743703688481,
     "user": {
      "displayName": "Yiming Li",
      "userId": "11003622552533924930"
     },
     "user_tz": 240
    },
    "id": "0LNeKup7RXsR",
    "outputId": "e9244870-3e75-4605-98e9-23c52f219d73"
   },
   "outputs": [
    {
     "name": "stdout",
     "output_type": "stream",
     "text": [
      "\n",
      "Validation Accuracy: 0.6626512096774193\n",
      "Validation F1-score: 0.7934195499861106\n",
      "\n",
      "Classification Report:\n",
      "              precision    recall  f1-score   support\n",
      "\n",
      "           0       0.88      0.04      0.08      6947\n",
      "           1       0.66      1.00      0.79     12893\n",
      "\n",
      "    accuracy                           0.66     19840\n",
      "   macro avg       0.77      0.52      0.44     19840\n",
      "weighted avg       0.74      0.66      0.54     19840\n",
      "\n"
     ]
    }
   ],
   "source": [
    "# Evaluate on val set\n",
    "y_val_pred = best_rf.predict(X_val)\n",
    "val_accuracy = accuracy_score(y_val, y_val_pred)\n",
    "val_f1 = f1_score(y_val, y_val_pred, zero_division=1)\n",
    "\n",
    "print(\"\\nValidation Accuracy:\", val_accuracy)\n",
    "print(\"Validation F1-score:\", val_f1)\n",
    "\n",
    "print(\"\\nClassification Report:\")\n",
    "print(classification_report(y_val, y_val_pred, zero_division=1))"
   ]
  },
  {
   "cell_type": "markdown",
   "metadata": {
    "id": "xp5EMklbTTc-"
   },
   "source": [
    "### Feature Importance Ranking"
   ]
  },
  {
   "cell_type": "code",
   "execution_count": 11,
   "metadata": {
    "colab": {
     "base_uri": "https://localhost:8080/",
     "height": 607
    },
    "executionInfo": {
     "elapsed": 747,
     "status": "ok",
     "timestamp": 1743703689228,
     "user": {
      "displayName": "Yiming Li",
      "userId": "11003622552533924930"
     },
     "user_tz": 240
    },
    "id": "buBkMwSbTYi0",
    "outputId": "692f774b-66ba-4056-8be7-c3a03e90bd8d"
   },
   "outputs": [
    {
     "data": {
      "image/png": "[encoded data removed]",
      "text/plain": [
       "<Figure size 1000x600 with 1 Axes>"
      ]
     },
     "metadata": {},
     "output_type": "display_data"
    }
   ],
   "source": [
    "# Feature Importance Ranking\n",
    "importances = best_rf.feature_importances_\n",
    "feature_importance_df = pd.DataFrame({\n",
    "    'Feature': X.columns,\n",
    "    'Importance': importances\n",
    "}).sort_values(by='Importance', ascending=False)\n",
    "\n",
    "# Plot feature Importance Ranking\n",
    "plt.figure(figsize=(10, 6))\n",
    "sns.barplot(x='Importance', y='Feature', data=feature_importance_df)\n",
    "plt.title(\"Feature Importance Ranking (Random Forest)\")\n",
    "plt.tight_layout()\n",
    "plt.show()"
   ]
  },
  {
   "cell_type": "markdown",
   "metadata": {
    "id": "DWOWq50fT7dJ"
   },
   "source": [
    "## Final Evaluation on Test Set"
   ]
  },
  {
   "cell_type": "code",
   "execution_count": null,
   "metadata": {
    "colab": {
     "base_uri": "https://localhost:8080/"
    },
    "executionInfo": {
     "elapsed": 11,
     "status": "ok",
     "timestamp": 1743703689236,
     "user": {
      "displayName": "Yiming Li",
      "userId": "11003622552533924930"
     },
     "user_tz": 240
    },
    "id": "m_TJuJzHUNjr",
    "outputId": "54332c36-5c7a-40b0-8142-351a86c85cf6"
   },
   "outputs": [
    {
     "name": "stdout",
     "output_type": "stream",
     "text": [
      "\n",
      "Test Accuracy: 0.968496395987701\n",
      "Test F1-score: 0.98399610785343\n",
      "Test AUC: Cannot compute (only one class present in y_test)\n"
     ]
    }
   ],
   "source": [
    "# Evaluate on test set\n",
    "y_test_pred = best_rf.predict(X_test)\n",
    "acc_test = accuracy_score(y_test, y_test_pred)\n",
    "f1_test = f1_score(y_test, y_test_pred)\n",
    "\n",
    "# Check if both classes are present in y_test\n",
    "if len(set(y_test)) > 1:\n",
    "    auc_test = roc_auc_score(y_test, best_rf.predict_proba(X_test)[:, 1])\n",
    "else:\n",
    "    auc_test = None  # Cannot compute AUC when there is only one class in y_test\n",
    "\n",
    "# Print results\n",
    "print(\"\\nTest Accuracy:\", acc_test)\n",
    "print(\"Test F1-score:\", f1_test)\n",
    "if auc_test is not None:\n",
    "    print(\"Test AUC:\", auc_test)\n",
    "else:\n",
    "    print(\"Test AUC: Cannot compute (only one class present in y_test)\")"
   ]
  },
  {
   "cell_type": "code",
   "execution_count": 13,
   "metadata": {
    "colab": {
     "base_uri": "https://localhost:8080/",
     "height": 862
    },
    "executionInfo": {
     "elapsed": 463,
     "status": "ok",
     "timestamp": 1743703689700,
     "user": {
      "displayName": "Yiming Li",
      "userId": "11003622552533924930"
     },
     "user_tz": 240
    },
    "id": "EInbP9N3UR81",
    "outputId": "192415e8-8b51-49ab-f654-2fa7c10193c0"
   },
   "outputs": [
    {
     "data": {
      "image/png": "[encoded data removed]",
      "text/plain": [
       "<Figure size 640x480 with 2 Axes>"
      ]
     },
     "metadata": {},
     "output_type": "display_data"
    }
   ],
   "source": [
    "# Confusion Matrix\n",
    "conf_matrix = confusion_matrix(y_test, y_test_pred)\n",
    "sns.heatmap(conf_matrix, annot=True, fmt='d', cmap='Blues')\n",
    "plt.title(\"Confusion Matrix (Test Set)\")\n",
    "plt.xlabel(\"Predicted\")\n",
    "plt.ylabel(\"Actual\")\n",
    "plt.show()"
   ]
  },
  {
   "cell_type": "markdown",
   "metadata": {
    "id": "jXi5IZYrURMv"
   },
   "source": [
    "## Save Top N Features for MLP"
   ]
  },
  {
   "cell_type": "code",
   "execution_count": 15,
   "metadata": {
    "colab": {
     "base_uri": "https://localhost:8080/"
    },
    "executionInfo": {
     "elapsed": 284,
     "status": "ok",
     "timestamp": 1743703689986,
     "user": {
      "displayName": "Yiming Li",
      "userId": "11003622552533924930"
     },
     "user_tz": 240
    },
    "id": "msuyIwsmVUKR",
    "outputId": "fe9581ca-f327-401c-f5ec-0448a3bf981d"
   },
   "outputs": [
    {
     "name": "stdout",
     "output_type": "stream",
     "text": [
      "\n",
      "Saving feature set: all_features (4 features)\n",
      "\n",
      "Saving feature set: importance_gt_0.2 (3 features)\n",
      "\n",
      "All feature subsets saved for MLP training.\n"
     ]
    }
   ],
   "source": [
    "# Create four feature sets based on importance thresholds\n",
    "thresholds = {\n",
    "    \"all_features\": X.columns.tolist(),\n",
    "    \"importance_gt_0.2\": feature_importance_df[feature_importance_df['Importance'] > 0.2]['Feature'].tolist()\n",
    "}\n",
    "\n",
    "# Save each set of features and corresponding data\n",
    "for name, selected_features in thresholds.items():\n",
    "    print(f\"\\nSaving feature set: {name} ({len(selected_features)} features)\")\n",
    "    X_sel = X[selected_features]\n",
    "    X_train_sel, X_test_sel, y_train_sel, y_test_sel = train_test_split(\n",
    "        X_sel, y, test_size=0.1, random_state=42, stratify=y\n",
    "    )\n",
    "    X_train_sel, X_val_sel, y_train_sel, y_val_sel = train_test_split(\n",
    "        X_train_sel, y_train_sel, test_size=2/9, random_state=42, stratify=y_train_sel\n",
    "    )\n",
    "\n",
    "\n",
    "    X_train_sel.to_csv(f\"../Dataset/MLP Data/X_train_{name}.csv\", index=False)\n",
    "    X_val_sel.to_csv(f\"../Dataset/MLP Data/X_val_{name}.csv\", index=False)\n",
    "    X_test_sel.to_csv(f\"../Dataset/MLP Data/X_test_{name}.csv\", index=False)\n",
    "    y_train_sel.to_csv(f\"../Dataset/MLP Data/y_train_{name}.csv\", index=False)\n",
    "    y_val_sel.to_csv(f\"../Dataset/MLP Data/y_val_{name}.csv\", index=False)\n",
    "    y_test_sel.to_csv(f\"../Dataset/MLP Data/y_test_{name}.csv\", index=False)\n",
    "\n",
    "\n",
    "\n",
    "print(\"\\nAll feature subsets saved for MLP training.\")"
   ]
  }
 ],
 "metadata": {
  "colab": {
   "authorship_tag": "ABX9TyM47FuzdU3VVUIRH7aoaWbf",
   "provenance": [],
   "toc_visible": true
  },
  "kernelspec": {
   "display_name": "Python 3",
   "name": "python3"
  },
  "language_info": {
   "codemirror_mode": {
    "name": "ipython",
    "version": 3
   },
   "file_extension": ".py",
   "mimetype": "text/x-python",
   "name": "python",
   "nbconvert_exporter": "python",
   "pygments_lexer": "ipython3",
   "version": "3.9.0"
  }
 },
 "nbformat": 4,
 "nbformat_minor": 0
}
