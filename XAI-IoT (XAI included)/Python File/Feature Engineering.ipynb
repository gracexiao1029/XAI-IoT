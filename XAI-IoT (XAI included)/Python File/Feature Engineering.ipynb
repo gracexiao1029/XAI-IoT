{
 "cells": [
  {
   "cell_type": "markdown",
   "metadata": {
    "id": "ttqhV3ZDP1d8"
   },
   "source": [
    "# Feature Engineering"
   ]
  },
  {
   "cell_type": "markdown",
   "metadata": {
    "id": "Ru_ekkeoP-aA"
   },
   "source": [
    "## Load Package"
   ]
  },
  {
   "cell_type": "code",
   "execution_count": 23,
   "metadata": {
    "executionInfo": {
     "elapsed": 8705,
     "status": "ok",
     "timestamp": 1743703642978,
     "user": {
      "displayName": "Yiming Li",
      "userId": "11003622552533924930"
     },
     "user_tz": 240
    },
    "id": "2Buc5NxeQAk5"
   },
   "outputs": [],
   "source": [
    "import pandas as pd\n",
    "import numpy as np\n",
    "import matplotlib.pyplot as plt\n",
    "import seaborn as sns\n",
    "\n",
    "from sklearn.ensemble import RandomForestClassifier\n",
    "from sklearn.model_selection import train_test_split, GridSearchCV\n",
    "\n",
    "from sklearn.metrics import accuracy_score, f1_score, classification_report, confusion_matrix, roc_auc_score, roc_curve"
   ]
  },
  {
   "cell_type": "markdown",
   "metadata": {
    "id": "zBnvY2flQFMq"
   },
   "source": [
    "## Load Processed Data"
   ]
  },
  {
   "cell_type": "code",
   "execution_count": 24,
   "metadata": {
    "executionInfo": {
     "elapsed": 1029,
     "status": "ok",
     "timestamp": 1743703644006,
     "user": {
      "displayName": "Yiming Li",
      "userId": "11003622552533924930"
     },
     "user_tz": 240
    },
    "id": "8DFmT8NbQGTa"
   },
   "outputs": [],
   "source": [
    "X = pd.read_csv(\"../Dataset/X_scaled.csv\")\n",
    "y = pd.read_csv(\"../Dataset/y_clean.csv\").squeeze()"
   ]
  },
  {
   "cell_type": "code",
   "execution_count": 25,
   "metadata": {},
   "outputs": [
    {
     "name": "stdout",
     "output_type": "stream",
     "text": [
      "(28500, 5) (28500,)\n"
     ]
    }
   ],
   "source": [
    "print(X.shape, y.shape)"
   ]
  },
  {
   "cell_type": "markdown",
   "metadata": {
    "id": "f9OAH3-DQU5o"
   },
   "source": [
    "## Train/Validation/Test Split"
   ]
  },
  {
   "cell_type": "code",
   "execution_count": 26,
   "metadata": {
    "executionInfo": {
     "elapsed": 87,
     "status": "ok",
     "timestamp": 1743703644110,
     "user": {
      "displayName": "Yiming Li",
      "userId": "11003622552533924930"
     },
     "user_tz": 240
    },
    "id": "_vrDKwMgQRwF"
   },
   "outputs": [],
   "source": [
    "## Train/Validation/Test Split (70/20/10)\n",
    "X_temp, X_test, y_temp, y_test = train_test_split(X, y, test_size=0.1, random_state=42, stratify=y)\n",
    "X_train, X_val, y_train, y_val = train_test_split(X_temp, y_temp, test_size=2/9, random_state=42, stratify=y_temp)"
   ]
  },
  {
   "cell_type": "markdown",
   "metadata": {
    "id": "NAycM2eMQg5P"
   },
   "source": [
    "## Feature Selection - Random Forest"
   ]
  },
  {
   "cell_type": "markdown",
   "metadata": {
    "id": "zJ9QpnHSQyoa"
   },
   "source": [
    "### Hyperparameter Tuning with GridSearchCV (on RF)"
   ]
  },
  {
   "cell_type": "code",
   "execution_count": 27,
   "metadata": {
    "executionInfo": {
     "elapsed": 1,
     "status": "ok",
     "timestamp": 1743703645388,
     "user": {
      "displayName": "Yiming Li",
      "userId": "11003622552533924930"
     },
     "user_tz": 240
    },
    "id": "deP1JiJbQUP5"
   },
   "outputs": [],
   "source": [
    "# Defining the Hyperparameter Grid\n",
    "param_grid = {\n",
    "    'n_estimators': [100, 200],\n",
    "    'max_depth': [None, 10, 20],\n",
    "    'min_samples_split': [2, 5],\n",
    "    'max_features': ['sqrt', 'log2']\n",
    "}\n",
    "\n",
    "# Setting up GridSearchCV\n",
    "rf_grid = GridSearchCV(\n",
    "    RandomForestClassifier(random_state=42, class_weight='balanced'),\n",
    "    param_grid,\n",
    "    scoring='f1',\n",
    "    cv=3,\n",
    "    n_jobs=-1,\n",
    "    verbose=1\n",
    ")"
   ]
  },
  {
   "cell_type": "code",
   "execution_count": 28,
   "metadata": {
    "colab": {
     "base_uri": "https://localhost:8080/"
    },
    "executionInfo": {
     "elapsed": 42961,
     "status": "ok",
     "timestamp": 1743703688469,
     "user": {
      "displayName": "Yiming Li",
      "userId": "11003622552533924930"
     },
     "user_tz": 240
    },
    "id": "qUjxgzhzRFeO",
    "outputId": "7fff2aa9-f66a-48d6-a387-4d6738448e78"
   },
   "outputs": [
    {
     "name": "stdout",
     "output_type": "stream",
     "text": [
      "Fitting 3 folds for each of 24 candidates, totalling 72 fits\n",
      "Best hyperparameters found:\n",
      "{'max_depth': None, 'max_features': 'sqrt', 'min_samples_split': 5, 'n_estimators': 100}\n"
     ]
    }
   ],
   "source": [
    "# Finding the Best Random Forest Configuration\n",
    "rf_grid.fit(X_train, y_train)\n",
    "best_rf = rf_grid.best_estimator_\n",
    "best_params = rf_grid.best_params_\n",
    "\n",
    "print(\"Best hyperparameters found:\")\n",
    "print(best_params)"
   ]
  },
  {
   "cell_type": "markdown",
   "metadata": {
    "id": "5UAGPOvzRSoe"
   },
   "source": [
    "### Evaluate on Validation Set"
   ]
  },
  {
   "cell_type": "code",
   "execution_count": 29,
   "metadata": {
    "colab": {
     "base_uri": "https://localhost:8080/"
    },
    "executionInfo": {
     "elapsed": 9,
     "status": "ok",
     "timestamp": 1743703688481,
     "user": {
      "displayName": "Yiming Li",
      "userId": "11003622552533924930"
     },
     "user_tz": 240
    },
    "id": "0LNeKup7RXsR",
    "outputId": "e9244870-3e75-4605-98e9-23c52f219d73"
   },
   "outputs": [
    {
     "name": "stdout",
     "output_type": "stream",
     "text": [
      "\n",
      "Validation Accuracy: 0.9198245614035088\n",
      "Validation F1-score: 0.9173747966009763\n",
      "\n",
      "Classification Report:\n",
      "              precision    recall  f1-score   support\n",
      "\n",
      "           0       0.90      0.94      0.92      2873\n",
      "           1       0.94      0.90      0.92      2827\n",
      "\n",
      "    accuracy                           0.92      5700\n",
      "   macro avg       0.92      0.92      0.92      5700\n",
      "weighted avg       0.92      0.92      0.92      5700\n",
      "\n"
     ]
    }
   ],
   "source": [
    "# Evaluate on val set\n",
    "y_val_pred = best_rf.predict(X_val)\n",
    "val_accuracy = accuracy_score(y_val, y_val_pred)\n",
    "val_f1 = f1_score(y_val, y_val_pred)\n",
    "\n",
    "print(\"\\nValidation Accuracy:\", val_accuracy)\n",
    "print(\"Validation F1-score:\", val_f1)\n",
    "print(\"\\nClassification Report:\")\n",
    "print(classification_report(y_val, y_val_pred))"
   ]
  },
  {
   "cell_type": "markdown",
   "metadata": {
    "id": "xp5EMklbTTc-"
   },
   "source": [
    "### Feature Importance Ranking"
   ]
  },
  {
   "cell_type": "code",
   "execution_count": 30,
   "metadata": {
    "colab": {
     "base_uri": "https://localhost:8080/",
     "height": 607
    },
    "executionInfo": {
     "elapsed": 747,
     "status": "ok",
     "timestamp": 1743703689228,
     "user": {
      "displayName": "Yiming Li",
      "userId": "11003622552533924930"
     },
     "user_tz": 240
    },
    "id": "buBkMwSbTYi0",
    "outputId": "692f774b-66ba-4056-8be7-c3a03e90bd8d"
   },
   "outputs": [
    {
     "data": {
      "image/png": "[encoded data removed]",
      "text/plain": [
       "<Figure size 1000x600 with 1 Axes>"
      ]
     },
     "metadata": {},
     "output_type": "display_data"
    }
   ],
   "source": [
    "# Feature Importance Ranking\n",
    "importances = best_rf.feature_importances_\n",
    "feature_importance_df = pd.DataFrame({\n",
    "    'Feature': X.columns,\n",
    "    'Importance': importances\n",
    "}).sort_values(by='Importance', ascending=False)\n",
    "\n",
    "# Plot feature Importance Ranking\n",
    "plt.figure(figsize=(10, 6))\n",
    "sns.barplot(x='Importance', y='Feature', data=feature_importance_df)\n",
    "plt.title(\"Feature Importance Ranking (Random Forest)\")\n",
    "plt.tight_layout()\n",
    "plt.show()"
   ]
  },
  {
   "cell_type": "markdown",
   "metadata": {
    "id": "DWOWq50fT7dJ"
   },
   "source": [
    "## Final Evaluation on Test Set"
   ]
  },
  {
   "cell_type": "code",
   "execution_count": 31,
   "metadata": {
    "colab": {
     "base_uri": "https://localhost:8080/"
    },
    "executionInfo": {
     "elapsed": 11,
     "status": "ok",
     "timestamp": 1743703689236,
     "user": {
      "displayName": "Yiming Li",
      "userId": "11003622552533924930"
     },
     "user_tz": 240
    },
    "id": "m_TJuJzHUNjr",
    "outputId": "54332c36-5c7a-40b0-8142-351a86c85cf6"
   },
   "outputs": [
    {
     "name": "stdout",
     "output_type": "stream",
     "text": [
      "\n",
      "Test Accuracy: 0.9196491228070175\n",
      "Test F1-score: 0.9174179588892896\n",
      "Test AUC: 0.978033532561374\n"
     ]
    }
   ],
   "source": [
    "y_test_pred = best_rf.predict(X_test)\n",
    "acc_test = accuracy_score(y_test, y_test_pred)\n",
    "f1_test = f1_score(y_test, y_test_pred)\n",
    "auc_test = roc_auc_score(y_test, best_rf.predict_proba(X_test)[:, 1])\n",
    "\n",
    "print(\"\\nTest Accuracy:\", acc_test)\n",
    "print(\"Test F1-score:\", f1_test)\n",
    "print(\"Test AUC:\", auc_test)"
   ]
  },
  {
   "cell_type": "code",
   "execution_count": 32,
   "metadata": {
    "colab": {
     "base_uri": "https://localhost:8080/",
     "height": 862
    },
    "executionInfo": {
     "elapsed": 463,
     "status": "ok",
     "timestamp": 1743703689700,
     "user": {
      "displayName": "Yiming Li",
      "userId": "11003622552533924930"
     },
     "user_tz": 240
    },
    "id": "EInbP9N3UR81",
    "outputId": "192415e8-8b51-49ab-f654-2fa7c10193c0"
   },
   "outputs": [
    {
     "data": {
      "image/png": "[encoded data removed]",
      "text/plain": [
       "<Figure size 640x480 with 2 Axes>"
      ]
     },
     "metadata": {},
     "output_type": "display_data"
    },
    {
     "data": {
      "image/png": "[encoded data removed]",
      "text/plain": [
       "<Figure size 600x400 with 1 Axes>"
      ]
     },
     "metadata": {},
     "output_type": "display_data"
    }
   ],
   "source": [
    "# Confusion Matrix\n",
    "conf_matrix = confusion_matrix(y_test, y_test_pred)\n",
    "sns.heatmap(conf_matrix, annot=True, fmt='d', cmap='Blues')\n",
    "plt.title(\"Confusion Matrix (Test Set)\")\n",
    "plt.xlabel(\"Predicted\")\n",
    "plt.ylabel(\"Actual\")\n",
    "plt.show()\n",
    "\n",
    "# ROC Curve\n",
    "fpr, tpr, _ = roc_curve(y_test, best_rf.predict_proba(X_test)[:, 1])\n",
    "plt.figure(figsize=(6, 4))\n",
    "plt.plot(fpr, tpr, label=f\"AUC = {auc_test:.2f}\")\n",
    "plt.plot([0, 1], [0, 1], '--', color='gray')\n",
    "plt.xlabel(\"False Positive Rate\")\n",
    "plt.ylabel(\"True Positive Rate\")\n",
    "plt.title(\"ROC Curve (Test Set)\")\n",
    "plt.legend()\n",
    "plt.tight_layout()\n",
    "plt.show()"
   ]
  },
  {
   "cell_type": "markdown",
   "metadata": {
    "id": "jXi5IZYrURMv"
   },
   "source": [
    "## Save Top N Features for MLP"
   ]
  },
  {
   "cell_type": "code",
   "execution_count": 33,
   "metadata": {
    "colab": {
     "base_uri": "https://localhost:8080/"
    },
    "executionInfo": {
     "elapsed": 284,
     "status": "ok",
     "timestamp": 1743703689986,
     "user": {
      "displayName": "Yiming Li",
      "userId": "11003622552533924930"
     },
     "user_tz": 240
    },
    "id": "msuyIwsmVUKR",
    "outputId": "fe9581ca-f327-401c-f5ec-0448a3bf981d"
   },
   "outputs": [
    {
     "name": "stdout",
     "output_type": "stream",
     "text": [
      "\n",
      "Saving feature set: all_features (5 features)\n",
      "\n",
      "Saving feature set: importance_gt_0.1 (4 features)\n",
      "\n",
      "Saving feature set: importance_gt_0.2 (3 features)\n",
      "\n",
      "All feature subsets saved for MLP training.\n"
     ]
    }
   ],
   "source": [
    "# Create four feature sets based on importance thresholds\n",
    "thresholds = {\n",
    "    \"all_features\": X.columns.tolist(),\n",
    "    \"importance_gt_0.1\": feature_importance_df[feature_importance_df['Importance'] > 0.1]['Feature'].tolist(),\n",
    "    \"importance_gt_0.2\": feature_importance_df[feature_importance_df['Importance'] > 0.2]['Feature'].tolist()\n",
    "}\n",
    "\n",
    "# Save each set of features and corresponding data\n",
    "for name, selected_features in thresholds.items():\n",
    "    print(f\"\\nSaving feature set: {name} ({len(selected_features)} features)\")\n",
    "    X_sel = X[selected_features]\n",
    "    X_train_sel, X_test_sel, y_train_sel, y_test_sel = train_test_split(\n",
    "        X_sel, y, test_size=0.1, random_state=42, stratify=y\n",
    "    )\n",
    "    X_train_sel, X_val_sel, y_train_sel, y_val_sel = train_test_split(\n",
    "        X_train_sel, y_train_sel, test_size=2/9, random_state=42, stratify=y_train_sel\n",
    "    )\n",
    "\n",
    "\n",
    "    X_train_sel.to_csv(f\"../Dataset/MLP Data/X_train_{name}.csv\", index=False)\n",
    "    X_val_sel.to_csv(f\"../Dataset/MLP Data/X_val_{name}.csv\", index=False)\n",
    "    X_test_sel.to_csv(f\"../Dataset/MLP Data/X_test_{name}.csv\", index=False)\n",
    "    y_train_sel.to_csv(f\"../Dataset/MLP Data/y_train_{name}.csv\", index=False)\n",
    "    y_val_sel.to_csv(f\"../Dataset/MLP Data/y_val_{name}.csv\", index=False)\n",
    "    y_test_sel.to_csv(f\"../Dataset/MLP Data/y_test_{name}.csv\", index=False)\n",
    "\n",
    "\n",
    "\n",
    "print(\"\\nAll feature subsets saved for MLP training.\")"
   ]
  }
 ],
 "metadata": {
  "colab": {
   "authorship_tag": "ABX9TyM47FuzdU3VVUIRH7aoaWbf",
   "provenance": [],
   "toc_visible": true
  },
  "kernelspec": {
   "display_name": "Python 3",
   "name": "python3"
  },
  "language_info": {
   "codemirror_mode": {
    "name": "ipython",
    "version": 3
   },
   "file_extension": ".py",
   "mimetype": "text/x-python",
   "name": "python",
   "nbconvert_exporter": "python",
   "pygments_lexer": "ipython3",
   "version": "3.9.0"
  }
 },
 "nbformat": 4,
 "nbformat_minor": 0
}
